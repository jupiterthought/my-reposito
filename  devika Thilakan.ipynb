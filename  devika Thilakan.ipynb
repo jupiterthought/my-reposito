{
  "cells": [
    {
      "cell_type": "markdown",
      "metadata": {
        "id": "view-in-github",
        "colab_type": "text"
      },
      "source": [
        "<a href=\"https://colab.research.google.com/github/jupiterthought/my-reposito/blob/main/%20devika%20Thilakan.ipynb\" target=\"_parent\"><img src=\"https://colab.research.google.com/assets/colab-badge.svg\" alt=\"Open In Colab\"/></a>"
      ]
    },
    {
      "cell_type": "code",
      "execution_count": null,
      "metadata": {
        "id": "sTebLQwXF8qB"
      },
      "outputs": [],
      "source": []
    },
    {
      "cell_type": "markdown",
      "source": [
        "# 1. bank account manager\n"
      ],
      "metadata": {
        "id": "WANwBxNbO3re"
      }
    },
    {
      "cell_type": "code",
      "execution_count": null,
      "metadata": {
        "colab": {
          "base_uri": "https://localhost:8080/"
        },
        "id": "QOMefIyv-JJ0",
        "outputId": "caf8f852-1f7c-4550-a0c8-7e9ff996b021"
      },
      "outputs": [
        {
          "output_type": "stream",
          "name": "stdout",
          "text": [
            "welcome to bank account\n",
            "enter the amount to be deposit:10000\n",
            "Deposit is successfull and the balance in the account is 10000.000000\n",
            "enter the amount to be withdrawn:5000\n",
            "amount successfully withdrawn and balance is 5000.000000\n",
            "balance in the account is 5000.000000\n"
          ]
        }
      ],
      "source": [
        "class bank_account():\n",
        "    def __init__(self):\n",
        "        self.balance = 0\n",
        "        print(\"welcome to bank account\")\n",
        "\n",
        "    def deposit(self):\n",
        "        amount = float(input(\"enter the amount to be deposit:\"))\n",
        "        self.balance = self.balance + amount\n",
        "        print(\"Deposit is successfull and the balance in the account is %f\" % self.balance)\n",
        "\n",
        "    def withdraw(self):\n",
        "        amount = float(input(\"enter the amount to be withdrawn:\"))\n",
        "        if self.balance >= amount:\n",
        "            self.balance = self.balance - amount\n",
        "            print(\"amount successfully withdrawn and balance is %f\" % self.balance)\n",
        "        else:\n",
        "            print(\"insufficient balance\")\n",
        "\n",
        "    def enquiry(self):\n",
        "        print(\"balance in the account is %f\" % self.balance)\n",
        "\n",
        "account = bank_account()\n",
        "account.deposit()\n",
        "account.withdraw()\n",
        "account.enquiry()\n",
        "\n",
        "\n"
      ]
    },
    {
      "cell_type": "markdown",
      "source": [
        "# 2.weather data analysis"
      ],
      "metadata": {
        "id": "K7lonv6XPDZv"
      }
    },
    {
      "cell_type": "code",
      "source": [
        "temperature =35\n",
        "humidity =25\n",
        "if temperature>30:\n",
        "  print(\"its hot today\")\n",
        "  humidity>30\n",
        "  print(\"heigher humidity\")\n",
        "elif temperature<5:\n",
        "  print(\"it is snowing\")\n",
        "elif humidity<26:\n",
        "  print(\"normal day\")\n",
        "else:print(\"insuffient data\")"
      ],
      "metadata": {
        "id": "J8eWJ-fp7olN",
        "colab": {
          "base_uri": "https://localhost:8080/"
        },
        "outputId": "c53f2f44-9429-4042-b98a-f4b21f00c02f"
      },
      "execution_count": null,
      "outputs": [
        {
          "output_type": "stream",
          "name": "stdout",
          "text": [
            "its hot today\n",
            "heigher humidity\n"
          ]
        }
      ]
    }
  ],
  "metadata": {
    "colab": {
      "provenance": [],
      "mount_file_id": "1qyIlYbVDG6pqqz_sEM-rnHK9URCcqaPv",
      "authorship_tag": "ABX9TyPq+wS8UuJ0GW8G80S7y2jv",
      "include_colab_link": true
    },
    "kernelspec": {
      "display_name": "Python 3",
      "name": "python3"
    },
    "language_info": {
      "name": "python"
    }
  },
  "nbformat": 4,
  "nbformat_minor": 0
}